{
  "cells": [
    {
      "cell_type": "markdown",
      "metadata": {
        "id": "view-in-github",
        "colab_type": "text"
      },
      "source": [
        "<a href=\"https://colab.research.google.com/github/oleeejka/Google-Colab/blob/main/my_mnist_fc.ipynb\" target=\"_parent\"><img src=\"https://colab.research.google.com/assets/colab-badge.svg\" alt=\"Open In Colab\"/></a>"
      ]
    },
    {
      "cell_type": "code",
      "execution_count": null,
      "metadata": {
        "id": "9cNH_q0n9ELo"
      },
      "outputs": [],
      "source": [
        "import torch\n",
        "import torch.nn as nn\n",
        "import torchvision as tv\n",
        "import torch.nn.functional as F\n",
        "\n",
        "import numpy as np\n",
        "from matplotlib import pyplot as plt\n",
        "import cv2\n",
        "import os\n",
        "\n",
        "from tqdm import tqdm"
      ]
    },
    {
      "cell_type": "markdown",
      "metadata": {
        "id": "SYq6a5NrEuah"
      },
      "source": [
        "**1. Работа с данными**"
      ]
    },
    {
      "cell_type": "markdown",
      "metadata": {
        "id": "nXF6QOy9DscZ"
      },
      "source": [
        "Задаём трансформацию в тензор"
      ]
    },
    {
      "cell_type": "code",
      "execution_count": null,
      "metadata": {
        "id": "VysZwOL-C5hq"
      },
      "outputs": [],
      "source": [
        "trans = tv.transforms.Compose([\n",
        "    tv.transforms.ToTensor()\n",
        "])"
      ]
    },
    {
      "cell_type": "markdown",
      "metadata": {
        "id": "2esb160dDv4A"
      },
      "source": [
        "Загружаем датасет, применяем трансформацию"
      ]
    },
    {
      "cell_type": "code",
      "execution_count": null,
      "metadata": {
        "id": "34zpIHtG-ZVv"
      },
      "outputs": [],
      "source": [
        "ds_mnist = tv.datasets.MNIST('./datasets', download=True, transform=trans)"
      ]
    },
    {
      "cell_type": "markdown",
      "metadata": {
        "id": "Mw-nxOjPD88h"
      },
      "source": [
        "Выведем изображение первой цифры"
      ]
    },
    {
      "cell_type": "code",
      "execution_count": null,
      "metadata": {
        "colab": {
          "base_uri": "https://localhost:8080/"
        },
        "id": "3vyVuXqxCZtM",
        "outputId": "d36ddf5b-6061-449b-ab06-f45c4774e468"
      },
      "outputs": [
        {
          "data": {
            "text/plain": [
              "(28, 28)"
            ]
          },
          "execution_count": 186,
          "metadata": {},
          "output_type": "execute_result"
        }
      ],
      "source": [
        "ds_mnist[0][0].numpy()[0].shape"
      ]
    },
    {
      "cell_type": "code",
      "execution_count": null,
      "metadata": {
        "colab": {
          "base_uri": "https://localhost:8080/",
          "height": 448
        },
        "id": "nwdsiU6JCj14",
        "outputId": "2e461fe4-c9c9-4c61-ca61-1f5b1e0523a5"
      },
      "outputs": [
        {
          "data": {
            "text/plain": [
              "<matplotlib.image.AxesImage at 0x7905047b27d0>"
            ]
          },
          "execution_count": 187,
          "metadata": {},
          "output_type": "execute_result"
        },
        {
          "data": {
            "image/png": "[encoded data removed]",
            "text/plain": [
              "<Figure size 640x480 with 1 Axes>"
            ]
          },
          "metadata": {},
          "output_type": "display_data"
        }
      ],
      "source": [
        "plt.imshow(ds_mnist[0][0].numpy()[0])"
      ]
    },
    {
      "cell_type": "markdown",
      "metadata": {
        "id": "dS-twjfZEzBP"
      },
      "source": [
        "**2. Dataloader**"
      ]
    },
    {
      "cell_type": "code",
      "execution_count": null,
      "metadata": {
        "id": "hzvv16C5EhGo"
      },
      "outputs": [],
      "source": [
        "batch_size = 16\n",
        "dataloader = torch.utils.data.DataLoader(\n",
        "    ds_mnist, batch_size=batch_size, shuffle=True, drop_last=True\n",
        ")"
      ]
    },
    {
      "cell_type": "code",
      "execution_count": null,
      "metadata": {
        "colab": {
          "base_uri": "https://localhost:8080/"
        },
        "id": "C7Jks-TVFqHu",
        "outputId": "bfe3927f-b4bd-498d-ae23-119e88f29fe2"
      },
      "outputs": [
        {
          "name": "stdout",
          "output_type": "stream",
          "text": [
            "torch.Size([16, 1, 28, 28])\n",
            "torch.Size([16])\n"
          ]
        }
      ],
      "source": [
        "for img, label in dataloader:\n",
        "  print(img.shape) ## batches, canals, height, weidth\n",
        "  print(label.shape) ## num of labels\n",
        "  break"
      ]
    },
    {
      "cell_type": "markdown",
      "metadata": {
        "id": "k0yv8uFHIcv4"
      },
      "source": [
        "**3. Архитектура НС**"
      ]
    },
    {
      "cell_type": "code",
      "execution_count": null,
      "metadata": {
        "id": "JyHt5vl2IjAr"
      },
      "outputs": [],
      "source": [
        "class Net(nn.Module):\n",
        "  def __init__(self):\n",
        "    super().__init__()\n",
        "\n",
        "    self.flat = nn.Flatten() ## развернуть фото в вектор\n",
        "    self.linear1 = nn.Linear(28*28, 100)\n",
        "    self.act1 = nn.ReLU()\n",
        "    self.linear2 = nn.Linear(100, 10)\n",
        "    # self.act2 = nn.Softmax(dim=1)\n",
        "\n",
        "    ## self.model = nn.Sequential(linear1, act1, linear2, act2)\n",
        "\n",
        "  def forward(self, x): ## forward - как перемещаются тензоры по НС\n",
        "    x = self.flat(x)\n",
        "    x = self.linear1(x)\n",
        "    x = self.act1(x)\n",
        "    x = self.linear2(x)\n",
        "    # x = self.act2(x)\n",
        "    return x"
      ]
    },
    {
      "cell_type": "code",
      "execution_count": null,
      "metadata": {
        "id": "1g-tj5z0OCaZ"
      },
      "outputs": [],
      "source": [
        "model = Net() ## create a model"
      ]
    },
    {
      "cell_type": "markdown",
      "metadata": {
        "id": "mY41V8PiM4fY"
      },
      "source": [
        "**3. Loss function**"
      ]
    },
    {
      "cell_type": "code",
      "execution_count": null,
      "metadata": {
        "id": "4ceTcP2XM7Nx"
      },
      "outputs": [],
      "source": [
        "loss_fn = nn.CrossEntropyLoss()\n"
      ]
    },
    {
      "cell_type": "markdown",
      "metadata": {
        "id": "0LyW2AWmN-AX"
      },
      "source": [
        "**4. Optimizer**"
      ]
    },
    {
      "cell_type": "code",
      "execution_count": null,
      "metadata": {
        "id": "wpdeMFI_OHqP"
      },
      "outputs": [],
      "source": [
        "optimizer = torch.optim.SGD(model.parameters(), lr=1e-3)"
      ]
    },
    {
      "cell_type": "code",
      "execution_count": null,
      "metadata": {
        "colab": {
          "base_uri": "https://localhost:8080/"
        },
        "id": "9yNxkvBITdBO",
        "outputId": "a0042475-9d05-4b6c-d45c-21d223ee9a7e"
      },
      "outputs": [
        {
          "name": "stdout",
          "output_type": "stream",
          "text": [
            "Общее количество параметров: 79510\n"
          ]
        }
      ],
      "source": [
        "## посмотрим кол-во параметров в НС\n",
        "\n",
        "total_params = sum(p.numel() for p in model.parameters())\n",
        "print(f\"Общее количество параметров: {total_params}\")"
      ]
    },
    {
      "cell_type": "markdown",
      "metadata": {
        "id": "W1UWeG2CPurN"
      },
      "source": [
        "**5. Обучение**"
      ]
    },
    {
      "cell_type": "markdown",
      "metadata": {
        "id": "Wb6Y-dC6WXyh"
      },
      "source": [
        "**Accuracy**"
      ]
    },
    {
      "cell_type": "code",
      "execution_count": null,
      "metadata": {
        "id": "HuxQORRnWXC8"
      },
      "outputs": [],
      "source": [
        "def accuracy(pred, label):\n",
        "  answer = F.softmax(pred.detach()).numpy().argmax(1) == label.numpy().argmax(1)\n",
        "  ## nn.Softmax(pred.detach()).argmax позволяет узнать результат работы НС\n",
        "  return answer.mean()\n",
        "\n"
      ]
    },
    {
      "cell_type": "code",
      "execution_count": null,
      "metadata": {
        "colab": {
          "background_save": true,
          "base_uri": "https://localhost:8080/"
        },
        "id": "WyuaIIKaPtmc",
        "outputId": "19a7d3eb-5b77-43f1-dae9-91050b1e77e7"
      },
      "outputs": [
        {
          "name": "stderr",
          "output_type": "stream",
          "text": [
            "  0%|          | 0/3750 [00:00<?, ?it/s]<ipython-input-195-b34466c008b5>:2: UserWarning: Implicit dimension choice for softmax has been deprecated. Change the call to include dim=X as an argument.\n",
            "  answer = F.softmax(pred.detach()).numpy().argmax(1) == label.numpy().argmax(1)\n",
            "loss: 1.2049\taccuracy: 0.875: 100%|██████████| 3750/3750 [00:43<00:00, 86.32it/s]\n"
          ]
        },
        {
          "name": "stdout",
          "output_type": "stream",
          "text": [
            "1.8366222496350606\n",
            "0.0\n"
          ]
        },
        {
          "name": "stderr",
          "output_type": "stream",
          "text": [
            "loss: 0.6103\taccuracy: 0.875: 100%|██████████| 3750/3750 [00:47<00:00, 79.18it/s]\n"
          ]
        },
        {
          "name": "stdout",
          "output_type": "stream",
          "text": [
            "0.941645849609375\n",
            "0.0\n"
          ]
        },
        {
          "name": "stderr",
          "output_type": "stream",
          "text": [
            "loss: 0.4867\taccuracy: 0.875: 100%|██████████| 3750/3750 [00:38<00:00, 96.18it/s]\n"
          ]
        },
        {
          "name": "stdout",
          "output_type": "stream",
          "text": [
            "0.6241251037200292\n",
            "0.0\n"
          ]
        },
        {
          "name": "stderr",
          "output_type": "stream",
          "text": [
            "loss: 0.4575\taccuracy: 0.875: 100%|██████████| 3750/3750 [00:39<00:00, 94.54it/s] \n"
          ]
        },
        {
          "name": "stdout",
          "output_type": "stream",
          "text": [
            "0.5072802192012469\n",
            "0.0\n"
          ]
        },
        {
          "name": "stderr",
          "output_type": "stream",
          "text": [
            "loss: 0.3148\taccuracy: 0.938: 100%|██████████| 3750/3750 [00:41<00:00, 90.31it/s]\n"
          ]
        },
        {
          "name": "stdout",
          "output_type": "stream",
          "text": [
            "0.44784501155813533\n",
            "0.0\n"
          ]
        },
        {
          "name": "stderr",
          "output_type": "stream",
          "text": [
            "loss: 0.3649\taccuracy: 0.875: 100%|██████████| 3750/3750 [00:39<00:00, 95.07it/s]\n"
          ]
        },
        {
          "name": "stdout",
          "output_type": "stream",
          "text": [
            "0.41217484800219534\n",
            "0.0\n"
          ]
        },
        {
          "name": "stderr",
          "output_type": "stream",
          "text": [
            "loss: 1.0112\taccuracy: 0.750: 100%|██████████| 3750/3750 [00:40<00:00, 92.31it/s]\n"
          ]
        },
        {
          "name": "stdout",
          "output_type": "stream",
          "text": [
            "0.38784701143006484\n",
            "0.0\n"
          ]
        },
        {
          "name": "stderr",
          "output_type": "stream",
          "text": [
            "loss: 0.1739\taccuracy: 0.938: 100%|██████████| 3750/3750 [00:38<00:00, 96.20it/s]\n"
          ]
        },
        {
          "name": "stdout",
          "output_type": "stream",
          "text": [
            "0.3700619765097896\n",
            "0.0\n"
          ]
        },
        {
          "name": "stderr",
          "output_type": "stream",
          "text": [
            "loss: 0.3147\taccuracy: 0.875: 100%|██████████| 3750/3750 [00:41<00:00, 89.38it/s]\n"
          ]
        },
        {
          "name": "stdout",
          "output_type": "stream",
          "text": [
            "0.3562695203483105\n",
            "0.0\n"
          ]
        },
        {
          "name": "stderr",
          "output_type": "stream",
          "text": [
            "loss: 0.2223\taccuracy: 1.000: 100%|██████████| 3750/3750 [00:39<00:00, 95.82it/s]"
          ]
        },
        {
          "name": "stdout",
          "output_type": "stream",
          "text": [
            "0.34495752425988513\n",
            "0.0\n"
          ]
        },
        {
          "name": "stderr",
          "output_type": "stream",
          "text": [
            "\n"
          ]
        }
      ],
      "source": [
        "epochs = 10\n",
        "\n",
        "for epoch in range(epochs):\n",
        "  loss_val = 0\n",
        "  acc_val = 0 ## accuracy\n",
        "  for img, label in (pbar := tqdm(dataloader)):\n",
        "\n",
        "    label = nn.functional.one_hot(label, 10).float()\n",
        "    pred = model(img)\n",
        "\n",
        "    loss = loss_fn(pred, label)\n",
        "    loss_val += loss.item()\n",
        "\n",
        "    acc_current = accuracy(pred, label) ## для простоты проверяем все на train\n",
        "    acc_val += acc_current\n",
        "    loss.backward()\n",
        "    optimizer.step()\n",
        "    optimizer.zero_grad()\n",
        "\n",
        "    pbar.set_description(f'loss: {loss.item():.4f}\\taccuracy: {acc_current:.3f}') ## визуализация лосса\n",
        "\n",
        "  print(loss_val / len(dataloader)) ## mean loss after each epoch\n",
        "  print(acc_val / len(dataloader)) ## mean accuracy after each epoch"
      ]
    },
    {
      "cell_type": "markdown",
      "metadata": {
        "id": "afboqBTWq_uD"
      },
      "source": [
        "**Проверим НС на новых данных**"
      ]
    },
    {
      "cell_type": "markdown",
      "metadata": {
        "id": "eXqnowPSrDSt"
      },
      "source": [
        "Загружаем картинку"
      ]
    },
    {
      "cell_type": "code",
      "execution_count": null,
      "metadata": {
        "colab": {
          "background_save": true
        },
        "id": "Hc0fK_28rFcr"
      },
      "outputs": [],
      "source": [
        "img = cv2.imread('img.png', cv2.IMREAD_GRAYSCALE)"
      ]
    },
    {
      "cell_type": "code",
      "execution_count": null,
      "metadata": {
        "colab": {
          "background_save": true
        },
        "id": "KWfpP9HDrxoR",
        "outputId": "4bb05696-a259-46a9-ca68-7c84776b1b77"
      },
      "outputs": [
        {
          "data": {
            "text/plain": [
              "(28, 28)"
            ]
          },
          "execution_count": 198,
          "metadata": {},
          "output_type": "execute_result"
        }
      ],
      "source": [
        "img.shape"
      ]
    },
    {
      "cell_type": "code",
      "execution_count": null,
      "metadata": {
        "colab": {
          "background_save": true
        },
        "id": "3oAJg_f6srlr"
      },
      "outputs": [],
      "source": [
        "## добавляем вначале ещё одну размерность - один канал. Должно стать (1, 28, 28)\n",
        "## делаем это дважды, т.к. наша НС работает с (1, 1, 28, 28)\n",
        "img = np.expand_dims(img, axis=0)\n",
        "img = np.expand_dims(img, axis=0)\n",
        "img = img.astype(np.float32) / 255.0"
      ]
    },
    {
      "cell_type": "code",
      "execution_count": null,
      "metadata": {
        "colab": {
          "background_save": true
        },
        "id": "PGcFGsZ6tbHt",
        "outputId": "36b48803-a4bf-4e6f-8151-1f3d14c5ff98"
      },
      "outputs": [
        {
          "data": {
            "text/plain": [
              "(1, 1, 28, 28)"
            ]
          },
          "execution_count": 200,
          "metadata": {},
          "output_type": "execute_result"
        }
      ],
      "source": [
        "img.shape"
      ]
    },
    {
      "cell_type": "markdown",
      "metadata": {
        "id": "swbkQnwStdvE"
      },
      "source": [
        "Переводим картинку в тензор, получаем предсказание модели"
      ]
    },
    {
      "cell_type": "code",
      "execution_count": null,
      "metadata": {
        "colab": {
          "background_save": true
        },
        "id": "jvS9Tq50tehE"
      },
      "outputs": [],
      "source": [
        "t_img = torch.from_numpy(img)\n",
        "nash_pred = model(t_img)"
      ]
    },
    {
      "cell_type": "code",
      "execution_count": null,
      "metadata": {
        "colab": {
          "background_save": true
        },
        "id": "BBXnHh8QuEBU",
        "outputId": "0fe1e195-7fa1-4065-801c-a529b626b113"
      },
      "outputs": [
        {
          "name": "stderr",
          "output_type": "stream",
          "text": [
            "<ipython-input-202-15d07e92809c>:1: UserWarning: Implicit dimension choice for softmax has been deprecated. Change the call to include dim=X as an argument.\n",
            "  F.softmax(nash_pred).detach().numpy().argmax()\n"
          ]
        },
        {
          "data": {
            "text/plain": [
              "5"
            ]
          },
          "execution_count": 202,
          "metadata": {},
          "output_type": "execute_result"
        }
      ],
      "source": [
        "F.softmax(nash_pred).detach().numpy().argmax()"
      ]
    }
  ],
  "metadata": {
    "colab": {
      "provenance": [],
      "authorship_tag": "ABX9TyOZH+t0Gb7m2t23sxMgV65Y",
      "include_colab_link": true
    },
    "kernelspec": {
      "display_name": "Python 3",
      "name": "python3"
    },
    "language_info": {
      "name": "python"
    }
  },
  "nbformat": 4,
  "nbformat_minor": 0
}